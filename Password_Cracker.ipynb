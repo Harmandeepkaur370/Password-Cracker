{
  "nbformat": 4,
  "nbformat_minor": 0,
  "metadata": {
    "colab": {
      "provenance": [],
      "authorship_tag": "ABX9TyMxDt6rHnVu1BC6C5NA4tTD",
      "include_colab_link": true
    },
    "kernelspec": {
      "name": "python3",
      "display_name": "Python 3"
    },
    "language_info": {
      "name": "python"
    }
  },
  "cells": [
    {
      "cell_type": "markdown",
      "metadata": {
        "id": "view-in-github",
        "colab_type": "text"
      },
      "source": [
        "<a href=\"https://colab.research.google.com/github/Harmandeepkaur370/Password-Cracker/blob/main/Password_Cracker.ipynb\" target=\"_parent\"><img src=\"https://colab.research.google.com/assets/colab-badge.svg\" alt=\"Open In Colab\"/></a>"
      ]
    },
    {
      "cell_type": "code",
      "execution_count": 1,
      "metadata": {
        "colab": {
          "base_uri": "https://localhost:8080/"
        },
        "id": "IFvvULeR3eRv",
        "outputId": "5281956c-ce16-4d03-fb2e-d16423208fb1"
      },
      "outputs": [
        {
          "output_type": "stream",
          "name": "stdout",
          "text": [
            "send the password: 54\n",
            "3\n",
            "attacking... please wait!\n",
            "13\n",
            "attacking... please wait!\n",
            "3\n",
            "attacking... please wait!\n",
            "53\n",
            "attacking... please wait!\n",
            "2\n",
            "attacking... please wait!\n",
            "22\n",
            "attacking... please wait!\n",
            "2\n",
            "attacking... please wait!\n",
            "22\n",
            "attacking... please wait!\n",
            "5\n",
            "attacking... please wait!\n",
            "35\n",
            "attacking... please wait!\n",
            "4\n",
            "attacking... please wait!\n",
            "54\n",
            "attacking... please wait!\n",
            "The pass is: 54\n"
          ]
        }
      ],
      "source": [
        "import os\n",
        "from random import randint\n",
        "pas=input(\"send the password: \")\n",
        "keys = [\"1\",\"2\",\"3\",\"4\",\"5\", \"6\",\"7\",\"8\",\"9\",\"0\",\"a\", \"b\", \"c\", \"d\", \"e\",\"f\",\"g\",\"h\",\"i\",\"j\",\"k\", \"l\", \"m\", \"n\", \"o\" \"p\", \"q\", \"r\", \"s\", \"t\", \"u\", \"v\", \"w\",\"x\",\"y\",\"z\"]\n",
        "pwg = \"\"\n",
        "\n",
        "while(pwg!=pas):\n",
        "\n",
        "    pwg=\"\"\n",
        "    for i in range(len(pas)):\n",
        "        guessPass = keys [randint(0,4)]\n",
        "        pwg = str(guessPass)+str(pwg)\n",
        "        print(pwg)\n",
        "        print(\"attacking... please wait!\")\n",
        "        os.system(\"cls\")\n",
        "\n",
        "print(f\"The pass is: {pwg}\")"
      ]
    }
  ]
}